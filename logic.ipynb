{
 "cells": [
  {
   "cell_type": "code",
   "execution_count": 1,
   "id": "9e7c7085",
   "metadata": {},
   "outputs": [],
   "source": [
    "import random\n",
    "def start_game():\n",
    "    mat=[]\n",
    "    for i in range(4):\n",
    "        mat.append([0]*4)\n",
    "    return mat\n",
    "\n",
    "def add_new_2(mar):\n",
    "    r=random.randint(0,3)\n",
    "    c=random.randint(0,3)\n",
    "    while mar[r][c]!=0:\n",
    "        r=random.randint(0,3)\n",
    "        c=random.randint(0,3)\n",
    "    mar[r][c]=2\n",
    "\n",
    "def reverse(mat):\n",
    "    new_mat=[]\n",
    "    for i in range(4):\n",
    "        new_mat.append([])\n",
    "        for j in range(4):\n",
    "            new_mat[i].append(mat[i][4-j-1])\n",
    "            \n",
    "    return new_mat\n",
    "def transpose(mat):\n",
    "    new_mat=[]\n",
    "    for i in range(4):\n",
    "        new_mat.append([])\n",
    "        for j in range(4):\n",
    "            new_mat[i].append(mat[j][i])\n",
    "       \n",
    "    return new_mat\n",
    "\n",
    "def merge(mat):\n",
    "    changed=False\n",
    "    for i in range(4):\n",
    "        for j in range(3):\n",
    "            if mat[i][j]==mat[i][j+1] and mat[i][j]!=0:\n",
    "                mat[i][j]=mat[i][j]*2\n",
    "                mat[i][j+1]=0\n",
    "                changed=True\n",
    "    return mat,changed\n",
    "                \n",
    "   \n",
    "def compress(mat):\n",
    "    changed=False\n",
    "    new_mat=[]\n",
    "    for i in range(4):\n",
    "        new_mat.append([0]*4)\n",
    "    for i in range(4):\n",
    "        pos=0\n",
    "        for j in range(4):\n",
    "            if mat[i][j]!=0:\n",
    "                new_mat[i][pos]=mat[i][j]\n",
    "                if j!=pos:\n",
    "                    changed=True\n",
    "                pos+=1\n",
    "    return new_mat,changed\n",
    "\n",
    "def move_up(grid):\n",
    "    transposed_grid=transpose(grid)\n",
    "    new_grid,changed1=compress(transposed_grid)\n",
    "    new_grid,changed2=merge(new_grid)\n",
    "    changed=changed1 or changed2\n",
    "    new_grid=compress(new_grid)\n",
    "    final_grid=transpose(new_grid)\n",
    "    return final_grid,changed\n",
    "    \n",
    "    \n",
    "def move_down(grid):\n",
    "    transposed_grid=transpose(grid)\n",
    "    reversed_grid=reverse(transposed_grid)\n",
    "    new_grid,changed1=compress(reversed_grid)\n",
    "    new_grid,changed2=merge(new_grid)\n",
    "    changed=changed1 or changed2\n",
    "    new_grid=compress(new_grid)\n",
    "    final_reversed_grid=reverse(new_grid)\n",
    "    final_grid=transpose(final_reversed_grid)\n",
    "    return final_grid,changed\n",
    "\n",
    "def move_right(grid):\n",
    "    reverse_grid=reverse(grid)\n",
    "    new_grid,changed1=compress(reverse_grid)\n",
    "    new_grid,changed2=merge(new_grid)\n",
    "    changed=changed1 or changed2\n",
    "    new_grid=compress(new_grid)\n",
    "    final_grid=reverse(new_grid)\n",
    "    return final_grid,changed\n",
    "\n",
    "def move_left(grid):\n",
    "    new_grid,changed1=compress(grid)\n",
    "    new_merge,changed2=merge(new_grid)\n",
    "    changed=changed1 or changed2\n",
    "    new_grid,temp=compress(new_grid)\n",
    "    return new_grid,changed\n",
    "\n",
    "  #anywhere 2048 is present in the matrix  \n",
    "def get_current_state(mat):\n",
    "    for i in range(4):\n",
    "        for j in range(4):\n",
    "            if mat[i][j]==2048:\n",
    "                return \"WON\"\n",
    "     #anywhere 0 is present in the matrix       \n",
    "    for i in range(4):\n",
    "        for j in range(4):\n",
    "            if mat[i][j]==0:\n",
    "                return \"GAME NOT OVER\"\n",
    "     \n",
    "     #every row and column except last row and last column       \n",
    "    for i in range(3):\n",
    "        for j in range(3):\n",
    "            if mat[i][j]==mat[i+1][j] or mat[i][j]==mat[i][j+1]:\n",
    "                return \"GAME NOT OVER\"\n",
    "      \n",
    "      #last row      \n",
    "    for j in range(3):\n",
    "        if mat[3][j]==mat[3][j+1]:\n",
    "            return \"GAME NOT OVER\"\n",
    "        \n",
    "    #last column\n",
    "    for i in range(3):\n",
    "        if mat[i][3]==mat[i+1][3]:\n",
    "            return \"GAME NOT OVER\"  \n",
    "            \n",
    "    return \"LOST\"\n",
    "            \n",
    "    "
   ]
  },
  {
   "cell_type": "code",
   "execution_count": 3,
   "id": "d75aa1a9",
   "metadata": {},
   "outputs": [
    {
     "name": "stdout",
     "output_type": "stream",
     "text": [
      "[[0, 0, 0, 0], [0, 0, 0, 0], [0, 0, 0, 0], [0, 0, 0, 0]]\n"
     ]
    }
   ],
   "source": [
    "mat=start_game()\n",
    "print(mat)"
   ]
  },
  {
   "cell_type": "code",
   "execution_count": 4,
   "id": "f2a7620c",
   "metadata": {},
   "outputs": [
    {
     "name": "stdout",
     "output_type": "stream",
     "text": [
      "[[0, 0, 0, 0], [0, 0, 0, 0], [0, 0, 0, 2], [0, 0, 0, 0]]\n"
     ]
    }
   ],
   "source": [
    "add_new_2(mat)\n",
    "print(mat)"
   ]
  },
  {
   "cell_type": "code",
   "execution_count": 5,
   "id": "ac48c242",
   "metadata": {},
   "outputs": [
    {
     "name": "stdout",
     "output_type": "stream",
     "text": [
      "[[0, 2, 0, 0], [0, 0, 0, 0], [0, 0, 0, 2], [0, 0, 0, 0]]\n"
     ]
    }
   ],
   "source": [
    "add_new_2(mat)\n",
    "print(mat)"
   ]
  },
  {
   "cell_type": "code",
   "execution_count": 6,
   "id": "712ba8fc",
   "metadata": {},
   "outputs": [
    {
     "name": "stdout",
     "output_type": "stream",
     "text": [
      "[[0, 2, 0, 2], [0, 0, 0, 0], [0, 0, 0, 0], [0, 0, 0, 0]]\n"
     ]
    }
   ],
   "source": [
    "mat=move_up(mat)\n",
    "print(mat)"
   ]
  },
  {
   "cell_type": "code",
   "execution_count": 7,
   "id": "7683637c",
   "metadata": {},
   "outputs": [
    {
     "name": "stdout",
     "output_type": "stream",
     "text": [
      "[[0, 0, 0, 4], [0, 0, 0, 0], [0, 0, 0, 0], [0, 0, 0, 0]]\n"
     ]
    }
   ],
   "source": [
    "mat=move_right(mat)\n",
    "print(mat)"
   ]
  },
  {
   "cell_type": "code",
   "execution_count": 8,
   "id": "a4b34cff",
   "metadata": {},
   "outputs": [
    {
     "name": "stdout",
     "output_type": "stream",
     "text": [
      "[[0, 0, 0, 0], [0, 0, 0, 0], [0, 0, 0, 0], [0, 0, 0, 4]]\n"
     ]
    }
   ],
   "source": [
    "mat=move_down(mat)\n",
    "print(mat)  "
   ]
  },
  {
   "cell_type": "code",
   "execution_count": 9,
   "id": "a155d821",
   "metadata": {},
   "outputs": [
    {
     "name": "stdout",
     "output_type": "stream",
     "text": [
      "[[0, 0, 0, 0], [0, 0, 2, 0], [0, 0, 0, 0], [0, 0, 0, 4]]\n"
     ]
    }
   ],
   "source": [
    "add_new_2(mat)\n",
    "print(mat)"
   ]
  },
  {
   "cell_type": "code",
   "execution_count": 10,
   "id": "35815464",
   "metadata": {},
   "outputs": [
    {
     "name": "stdout",
     "output_type": "stream",
     "text": [
      "[[0, 0, 0, 0], [2, 0, 0, 0], [0, 0, 0, 0], [4, 0, 0, 0]]\n"
     ]
    }
   ],
   "source": [
    "mat=move_left(mat)  \n",
    "print(mat)"
   ]
  },
  {
   "cell_type": "code",
   "execution_count": 11,
   "id": "1026b328",
   "metadata": {},
   "outputs": [
    {
     "name": "stdout",
     "output_type": "stream",
     "text": [
      "[[0, 0, 0, 0], [0, 0, 0, 0], [2, 0, 0, 0], [4, 0, 0, 0]]\n"
     ]
    }
   ],
   "source": [
    "mat=move_down(mat)\n",
    "print(mat)"
   ]
  },
  {
   "cell_type": "code",
   "execution_count": null,
   "id": "f2335872",
   "metadata": {},
   "outputs": [],
   "source": []
  },
  {
   "cell_type": "code",
   "execution_count": 2,
   "id": "b3f735cb",
   "metadata": {},
   "outputs": [],
   "source": [
    "import random\n",
    "\n",
    "def start_game():\n",
    "    \"\"\"\n",
    "    Initialize the game board with zeros.\n",
    "    \"\"\"\n",
    "    mat = []\n",
    "    for i in range(4):\n",
    "        mat.append([0]*4)\n",
    "    return mat\n",
    "\n",
    "def transpose(matrix):\n",
    "    \"\"\"\n",
    "    Transpose the given matrix.\n",
    "    \"\"\"\n",
    "    return [list(row) for row in zip(*matrix)]\n",
    "\n",
    "def reverse_rows(matrix):\n",
    "    \"\"\"\n",
    "    Reverse the rows of the given matrix.\n",
    "    \"\"\"\n",
    "    return [row[::-1] for row in matrix]\n",
    "\n",
    "def move_up(grid):\n",
    "    \"\"\"\n",
    "    Perform the 'up' move in the 2048 game.\n",
    "    \"\"\"\n",
    "    transposed_grid = transpose(grid)\n",
    "    moved_left = move_left(transposed_grid)\n",
    "    return transpose(moved_left)\n",
    "\n",
    "def move_down(grid):\n",
    "    \"\"\"\n",
    "    Perform the 'down' move in the 2048 game.\n",
    "    \"\"\"\n",
    "    transposed_grid = transpose(grid)\n",
    "    reversed_rows = reverse_rows(transposed_grid)\n",
    "    moved_left = move_left(reversed_rows)\n",
    "    reversed_back = reverse_rows(moved_left)\n",
    "    return transpose(reversed_back)\n",
    "\n",
    "def move_left(grid):\n",
    "    \"\"\"\n",
    "    Perform the 'left' move in the 2048 game.\n",
    "    \"\"\"\n",
    "    new_grid = []\n",
    "    for row in grid:\n",
    "        row = [val for val in row if val != 0]\n",
    "        for i in range(len(row) - 1):\n",
    "            if row[i] == row[i + 1]:\n",
    "                row[i] *= 2\n",
    "                row[i + 1] = 0\n",
    "        row = [val for val in row if val != 0]\n",
    "        row += [0] * (len(grid) - len(row))\n",
    "        new_grid.append(row)\n",
    "    return new_grid\n",
    "\n",
    "def move_right(grid):\n",
    "    \"\"\"\n",
    "    Perform the 'right' move in the 2048 game.\n",
    "    \"\"\"\n",
    "    reversed_rows = reverse_rows(grid)\n",
    "    moved_left = move_left(reversed_rows)\n",
    "    return reverse_rows(moved_left)\n",
    "\n",
    "\n",
    "\n",
    "mat = start_game()\n",
    "mat[1][3] = 2\n",
    "mat[2][2] = 2\n",
    "mat[3][0] = 4\n",
    "mat[3][1] = 8\n",
    "mat[2][1] = 4\n",
    "inputs = [int(ele) for ele in input().split()]\n",
    "for ele in inputs:\n",
    "    if ele == 1:\n",
    "        mat = move_up(mat)\n",
    "    elif ele == 2:\n",
    "        mat = move_down(mat)\n",
    "    elif ele == 3:\n",
    "        mat = move_left(mat)\n",
    "    else:\n",
    "        mat = move_right(mat)\n",
    "    print(mat)"
   ]
  }
 ],
 "metadata": {
  "kernelspec": {
   "display_name": "Python 3 (ipykernel)",
   "language": "python",
   "name": "python3"
  },
  "language_info": {
   "codemirror_mode": {
    "name": "ipython",
    "version": 3
   },
   "file_extension": ".py",
   "mimetype": "text/x-python",
   "name": "python",
   "nbconvert_exporter": "python",
   "pygments_lexer": "ipython3",
   "version": "3.11.8"
  }
 },
 "nbformat": 4,
 "nbformat_minor": 5
}
